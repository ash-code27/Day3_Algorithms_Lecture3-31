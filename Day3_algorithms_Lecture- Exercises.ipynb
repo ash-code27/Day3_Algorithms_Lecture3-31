{
 "cells": [
  {
   "cell_type": "markdown",
   "metadata": {},
   "source": [
    "# Algorithms, Binary Search & Linked Lists"
   ]
  },
  {
   "cell_type": "markdown",
   "metadata": {},
   "source": [
    "## Tasks Today:\n",
    " \n",
    "1) <b>In-Place Algorithms</b> <br>\n",
    " &nbsp;&nbsp;&nbsp;&nbsp; a) Syntax <br>\n",
    " &nbsp;&nbsp;&nbsp;&nbsp; a) Out of Place Algorithm <br>\n",
    " &nbsp;&nbsp;&nbsp;&nbsp; b) In-Class Exercise #1 <br>\n",
    "2) <b>Two Pointers</b> <br>\n",
    "3) <b>Linked Lists</b> <br>\n",
    "4) <b>Merge Sort</b> <br>\n",
    " &nbsp;&nbsp;&nbsp;&nbsp; a) Video on Algorithms <br>\n",
    " &nbsp;&nbsp;&nbsp;&nbsp; b) How it Works <br>\n",
    "5) <b>Exercises</b> <br>\n",
    " &nbsp;&nbsp;&nbsp;&nbsp; a) Exercise #1 - Reverse a List in Place Using an In-Place Algorithm <br>\n",
    " &nbsp;&nbsp;&nbsp;&nbsp; b) Exercise #2 - Find Distinct Words <br>\n",
    " &nbsp;&nbsp;&nbsp;&nbsp; c) Exercise #3 - Write a program to implement a Linear Search Algorithm. <br>"
   ]
  },
  {
   "cell_type": "markdown",
   "metadata": {},
   "source": [
    "## In-Place Algorithms"
   ]
  },
  {
   "cell_type": "markdown",
   "metadata": {},
   "source": [
    "#### Syntax"
   ]
  },
  {
   "cell_type": "code",
   "execution_count": 1,
   "metadata": {},
   "outputs": [
    {
     "name": "stdout",
     "output_type": "stream",
     "text": [
      "['Erin', 'Terrell', 'Eric', 'Sam']\n"
     ]
    }
   ],
   "source": [
    "# swapper\n",
    "# we want to swap the values at two indicies in our list\n",
    "# the main idea of an in-place algorithm is that we modify our original data and don't make any copies\n",
    "def swap(alist, x, y):\n",
    "    # placeholdervariable = alist[x]\n",
    "    # ph = alist[y]\n",
    "    # alist[x] = ph\n",
    "    # alist[y] = placeholdervariable\n",
    "    alist[x],alist[y] = alist[y],alist[x]\n",
    "    return alist\n",
    "\n",
    "my_list = ['Sam', 'Terrell', 'Eric', 'Erin']\n",
    "print(swap(my_list, 0, 3))\n"
   ]
  },
  {
   "cell_type": "markdown",
   "metadata": {},
   "source": [
    "#### Out of Place Algorithm"
   ]
  },
  {
   "cell_type": "code",
   "execution_count": 2,
   "metadata": {},
   "outputs": [
    {
     "name": "stdout",
     "output_type": "stream",
     "text": [
      "['Erin', 'Terrell', 'Eric', 'Sam']\n",
      "['Sam', 'Eric', 'Terrell', 'Erin']\n"
     ]
    },
    {
     "data": {
      "text/plain": [
       "['d', 'c', 'b', 'a']"
      ]
     },
     "execution_count": 2,
     "metadata": {},
     "output_type": "execute_result"
    }
   ],
   "source": [
    "# reverse our list completely\n",
    "# main idea of an out of place algorithm is that we maintain data integrity and dont modify our original data structure\n",
    "my_list_copy = my_list[::-1]\n",
    "print(my_list)\n",
    "print(my_list_copy)\n",
    "\n",
    "array1 = ['a', 'b', 'c', 'd']\n",
    "# input - some array\n",
    "# output - a NEW array that is the input array in reverse\n",
    "def reverse(array):\n",
    "    ans = []\n",
    "    for i in range(1,len(array)+1):\n",
    "        ans.append(array[-i])\n",
    "    return ans\n",
    "\n",
    "newarr = reverse(array1)\n",
    "newarr"
   ]
  },
  {
   "cell_type": "code",
   "execution_count": 3,
   "metadata": {},
   "outputs": [
    {
     "name": "stdout",
     "output_type": "stream",
     "text": [
      "['Erin', 'Terrell', 'Eric', 'Sam']\n",
      "['Sam', 'Terrell', 'Eric', 'Erin']\n"
     ]
    }
   ],
   "source": [
    "# out of place swapper\n",
    "def swap2(alist, x, y):\n",
    "    # tell it to make a copy (slicing or .copy())\n",
    "    blist = alist[:]\n",
    "    blist[x],blist[y] = blist[y],blist[x]\n",
    "    return blist\n",
    "\n",
    "my_list2 = ['Sam', 'Terrell', 'Eric', 'Erin']\n",
    "print(swap2(my_list2, 0, 3))\n",
    "print(my_list2)"
   ]
  },
  {
   "cell_type": "markdown",
   "metadata": {},
   "source": [
    "#### Out of Place vs. In-place in brief:\n",
    "#### Did I modify my input data? If so, probably in-place. If not, probably out of place"
   ]
  },
  {
   "cell_type": "markdown",
   "metadata": {},
   "source": [
    "#### In-Class Exercise #1 <br>\n",
    "<p>Write a function that takes in four arguments (list, index1, index2, index3), and swaps those three positions in the list passed in.</p>"
   ]
  },
  {
   "cell_type": "code",
   "execution_count": 4,
   "metadata": {},
   "outputs": [
    {
     "name": "stdout",
     "output_type": "stream",
     "text": [
      "[3]\n"
     ]
    }
   ],
   "source": [
    "l_1 = [10, 4, 3, 8, 4, 2, 6]\n",
    "\n",
    "\n",
    "# i want to in-place remove all of the even numbers in our list\n",
    "def ipremove(alist):\n",
    "    i = 0\n",
    "    while i < len(alist):\n",
    "        if alist[i]%2 == 0:\n",
    "            alist.remove(alist[i])\n",
    "        else:\n",
    "            i += 1\n",
    "    return alist\n",
    "\n",
    "print(ipremove(l_1))\n",
    "\n",
    "#OR\n",
    "\n",
    "# print(\"the list is\",l_1)\n",
    "\n",
    "# def swap4(the_list,ind1,ind2,ind3):\n",
    "#     the_list[ind1],the_list[ind2],the_list[ind3] = the_list[ind2],the_list[ind3],the_list[ind1]\n",
    "#     print(\"the list is now\", the_list)\n",
    "#     return the_list\n",
    "\n",
    "# swap4(l_1, 0,1,-1)\n",
    "# swap4(l_1, 0,1,-1)\n",
    "# swap4(l_1, 0,1,-1)\n"
   ]
  },
  {
   "cell_type": "markdown",
   "metadata": {},
   "source": [
    "## Two Pointers"
   ]
  },
  {
   "cell_type": "markdown",
   "metadata": {},
   "source": [
    "#### Syntax"
   ]
  },
  {
   "cell_type": "code",
   "execution_count": 1,
   "metadata": {},
   "outputs": [
    {
     "ename": "NameError",
     "evalue": "name 'our_thing_happened' is not defined",
     "output_type": "error",
     "traceback": [
      "\u001b[1;31m---------------------------------------------------------------------------\u001b[0m",
      "\u001b[1;31mNameError\u001b[0m                                 Traceback (most recent call last)",
      "\u001b[1;32m<ipython-input-1-310ed3666f59>\u001b[0m in \u001b[0;36m<module>\u001b[1;34m\u001b[0m\n\u001b[0;32m      9\u001b[0m \u001b[0mi\u001b[0m \u001b[1;33m=\u001b[0m \u001b[1;36m0\u001b[0m\u001b[1;33m\u001b[0m\u001b[1;33m\u001b[0m\u001b[0m\n\u001b[0;32m     10\u001b[0m \u001b[1;32mwhile\u001b[0m \u001b[0mi\u001b[0m \u001b[1;33m<\u001b[0m \u001b[1;36m10\u001b[0m\u001b[1;33m:\u001b[0m\u001b[1;33m\u001b[0m\u001b[1;33m\u001b[0m\u001b[0m\n\u001b[1;32m---> 11\u001b[1;33m     \u001b[1;32mif\u001b[0m \u001b[0mour_thing_happened\u001b[0m\u001b[1;33m:\u001b[0m\u001b[1;33m\u001b[0m\u001b[1;33m\u001b[0m\u001b[0m\n\u001b[0m\u001b[0;32m     12\u001b[0m         \u001b[0mi\u001b[0m \u001b[1;33m+=\u001b[0m \u001b[1;36m1\u001b[0m\u001b[1;33m\u001b[0m\u001b[1;33m\u001b[0m\u001b[0m\n\u001b[0;32m     13\u001b[0m \u001b[1;31m# Pointer\u001b[0m\u001b[1;33m\u001b[0m\u001b[1;33m\u001b[0m\u001b[1;33m\u001b[0m\u001b[0m\n",
      "\u001b[1;31mNameError\u001b[0m: name 'our_thing_happened' is not defined"
     ]
    }
   ],
   "source": [
    "# 3 additional variables commonly used to keep track of something while looping\n",
    "# Flag - boolean that controls a loop (usually a while loop) based off a certain condition\n",
    "flag = True\n",
    "#while flag:\n",
    "    #if a_condition:\n",
    "        #flag = False\n",
    "        #print('Flag was hit')\n",
    "# Counter\n",
    "i = 0\n",
    "while i < 10:\n",
    "    if our_thing_happened:\n",
    "        i += 1\n",
    "# Pointer\n",
    "n = 0\n",
    "while n < len(l_1):\n",
    "    print(l_1[n])\n",
    "    n += 1"
   ]
  },
  {
   "cell_type": "code",
   "execution_count": 12,
   "metadata": {},
   "outputs": [
    {
     "data": {
      "text/plain": [
       "[8, 7, 6, 5, 4, 3, 2, 1]"
      ]
     },
     "execution_count": 12,
     "metadata": {},
     "output_type": "execute_result"
    }
   ],
   "source": [
    "# alist[left], alist[right] = alist[right], alist[left]\n",
    "#reverse the list in place -> use pointers\n",
    "def twoPointers(alist):\n",
    "    left = 0\n",
    "    right = len(alist)-1\n",
    "    while left < right:\n",
    "        alist[left], alist[right] = alist[right], alist[left]\n",
    "        left += 1\n",
    "        right -= 1\n",
    "    return alist\n",
    "\n",
    "my_list2 = [1, 2, 3, 4, 5, 6, 7, 8]\n",
    "twoPointers(my_list2)"
   ]
  },
  {
   "cell_type": "code",
   "execution_count": 11,
   "metadata": {},
   "outputs": [
    {
     "name": "stdout",
     "output_type": "stream",
     "text": [
      "[0, 3, 5, 6, 7, 7, 8]\n"
     ]
    }
   ],
   "source": [
    "list1 = [3, 5, 7, 8]\n",
    "list2 = [0, 6, 7, 9]\n",
    "# my goal is to merge the two lists in sorted order\n",
    "#newlist = sorted(list1+list2) # O(nlogn)\n",
    "\n",
    "def pointy(lista, listb): # O(n)\n",
    "    x = 0\n",
    "    y = 0\n",
    "    ans = []\n",
    "    while x < len(lista) and y < len(listb):\n",
    "        if lista[x] < listb[y]:\n",
    "            ans.append(lista[x])\n",
    "            x += 1\n",
    "        else:\n",
    "            ans.append(listb[y])\n",
    "            y += 1\n",
    "    return ans\n",
    "\n",
    "print(pointy(list1, list2))"
   ]
  },
  {
   "cell_type": "code",
   "execution_count": null,
   "metadata": {},
   "outputs": [],
   "source": [
    "# How do I tell what time complexity?\n",
    "# We don't care about anything other than exponential differences in our time complexity\n",
    "# Most Common Time Complexities:\n",
    "# O(1)\n",
    "# O(logn)\n",
    "# O(n)\n",
    "# O(nlogn)\n",
    "# O(n^2)\n",
    "# anything above quadratic time is really slow\n",
    "# O(n!)\n",
    "# O(n^n)\n",
    "\n",
    "# What takes what time?\n",
    "# Any loop through an iterable takes O(n)\n",
    "# Some operations such as removing from a list are O(n)\n",
    "# Checking for membership (if i in alist) in lists takes O(n)\n",
    "\n",
    "# Checking for membership (if i in collection) in sets and dictionaries takes O(1)\n",
    "\n",
    "# What about bad time complexity? Where does that come from\n",
    "# Nesting\n",
    "# Having a O(n) or worse operation that occurs every time another O(n) or worse operation runs\n",
    "# Nested for loops (loop in a loop)\n",
    "# Removing inside a for loop\n",
    "\n",
    "# Determine whether or not the amount of steps an operation takes scales with number of inputs\n",
    "# Determine whether or not a scaling operation occurs in full every time another operation steps\n",
    "\n",
    "# What about multiple loops that aren't nested?\n",
    "# Simplification!\n",
    "alist = list(range(1, 11)) # O(n)\n",
    "for x in alist: # O(n)\n",
    "    print(x)\n",
    "for x in alist: # O(n)\n",
    "    print(x)\n",
    "\n",
    "# O(3*n) = O(n + n + n) = O(n) because infinity * 3 = infinity\n"
   ]
  },
  {
   "cell_type": "markdown",
   "metadata": {},
   "source": [
    "#### Video of Algorithms <br>\n",
    "<p>Watch the video about algorithms.</p>\n",
    "\n",
    "https://www.youtube.com/watch?v=Q9HjeFD62Uk\n",
    "\n",
    "https://www.youtube.com/watch?v=kPRA0W1kECg\n",
    "\n",
    "https://www.youtube.com/watch?v=ZZuD6iUe3Pc"
   ]
  },
  {
   "cell_type": "code",
   "execution_count": 10,
   "metadata": {},
   "outputs": [
    {
     "data": {
      "text/plain": [
       "[7, 6, 5, 4, 3, 2, 1]"
      ]
     },
     "execution_count": 10,
     "metadata": {},
     "output_type": "execute_result"
    }
   ],
   "source": [
    "#Using two pointers\n",
    "#reversing a list by, in place by using pointers\n",
    "#alist[left],alist[right] = alist[right],alist[left]\n",
    "\n",
    "def twoPointers(alist):\n",
    "    left = 0\n",
    "    right = len(alist)-1\n",
    "    while left < right:\n",
    "        alist[left], alist[right] = alist[right],alist[left]\n",
    "        left += 1\n",
    "        right -= 1\n",
    "    return alist\n",
    "\n",
    "list3 = [1,2,3,4,5,6,7]\n",
    "twoPointers(list3)"
   ]
  },
  {
   "cell_type": "code",
   "execution_count": 4,
   "metadata": {},
   "outputs": [
    {
     "ename": "NameError",
     "evalue": "name 'list1' is not defined",
     "output_type": "error",
     "traceback": [
      "\u001b[1;31m---------------------------------------------------------------------------\u001b[0m",
      "\u001b[1;31mNameError\u001b[0m                                 Traceback (most recent call last)",
      "\u001b[1;32m<ipython-input-4-2f8ed5798bb1>\u001b[0m in \u001b[0;36m<module>\u001b[1;34m\u001b[0m\n\u001b[0;32m      2\u001b[0m \u001b[0ml2\u001b[0m \u001b[1;33m=\u001b[0m \u001b[1;33m[\u001b[0m\u001b[1;36m0\u001b[0m\u001b[1;33m,\u001b[0m\u001b[1;36m6\u001b[0m\u001b[1;33m,\u001b[0m\u001b[1;36m7\u001b[0m\u001b[1;33m,\u001b[0m\u001b[1;36m9\u001b[0m\u001b[1;33m]\u001b[0m\u001b[1;33m\u001b[0m\u001b[1;33m\u001b[0m\u001b[0m\n\u001b[0;32m      3\u001b[0m \u001b[1;31m# my goal is to merge the two lists in sorted order\u001b[0m\u001b[1;33m\u001b[0m\u001b[1;33m\u001b[0m\u001b[1;33m\u001b[0m\u001b[0m\n\u001b[1;32m----> 4\u001b[1;33m \u001b[0mnewlist\u001b[0m \u001b[1;33m=\u001b[0m \u001b[0msorted\u001b[0m\u001b[1;33m(\u001b[0m\u001b[0mlist1\u001b[0m\u001b[1;33m+\u001b[0m\u001b[0mlist2\u001b[0m\u001b[1;33m)\u001b[0m \u001b[1;31m#time complexity is worse than when we would use two pointers\u001b[0m\u001b[1;33m\u001b[0m\u001b[1;33m\u001b[0m\u001b[0m\n\u001b[0m\u001b[0;32m      5\u001b[0m \u001b[1;31m#in big O notation --> O(n*log(n)), worst case scenario for infinite number of inputs\u001b[0m\u001b[1;33m\u001b[0m\u001b[1;33m\u001b[0m\u001b[1;33m\u001b[0m\u001b[0m\n\u001b[0;32m      6\u001b[0m \u001b[0mprint\u001b[0m\u001b[1;33m(\u001b[0m\u001b[0mnewlist\u001b[0m\u001b[1;33m)\u001b[0m\u001b[1;33m\u001b[0m\u001b[1;33m\u001b[0m\u001b[0m\n",
      "\u001b[1;31mNameError\u001b[0m: name 'list1' is not defined"
     ]
    }
   ],
   "source": [
    "l1 = [3,5,7,8]\n",
    "l2 = [0,6,7,9]\n",
    "# my goal is to merge the two lists in sorted order\n",
    "newlist = sorted(list1+list2) #time complexity is worse than when we would use two pointers\n",
    "#in big O notation --> O(n*log(n)), worst case scenario for infinite number of inputs\n",
    "print(newlist)\n",
    "\n",
    "def pointy(list1,list2):  #O(n)\n",
    "    x = 0\n",
    "    y = 0\n",
    "    ans = []\n",
    "    while x < len(list1) and y < len(list2): #5 *n, but 5 times infinity is still infinity\n",
    "        if list1[x] < list2[y]:\n",
    "            ans.append(list1[x])\n",
    "            x +=1\n",
    "        else:\n",
    "            ans.append(list2[y])\n",
    "            y +=1\n",
    "    return(ans)\n",
    "\n",
    "print(pointy(l1,l2))\n",
    "\n",
    "\n",
    "# output: \n",
    "# [0, 3, 5, 6, 7, 7, 8, 9]\n",
    "# [0, 3, 5, 6, 7, 7, 8]"
   ]
  },
  {
   "cell_type": "markdown",
   "metadata": {},
   "source": [
    "# Sorting Algorithms"
   ]
  },
  {
   "cell_type": "markdown",
   "metadata": {},
   "source": [
    "#### Bubble Sort\n",
    "\n",
    "Worst Case: O(n^2) Time - O(1) Space"
   ]
  },
  {
   "cell_type": "code",
   "execution_count": 8,
   "metadata": {},
   "outputs": [
    {
     "data": {
      "text/plain": [
       "[1, 3, 6, 9, 23, 56]"
      ]
     },
     "execution_count": 8,
     "metadata": {},
     "output_type": "execute_result"
    }
   ],
   "source": [
    "# Best case (sorted): O(n) linear because it goes through n during the for loop,\n",
    "# doesnt go through while loop for each n\n",
    "# Worse case (not sorted): O(n^2) because it goes through n during the for loop, \n",
    "# goes through n in the while loop\n",
    "\n",
    "#helper function, called within another function to make it easier to read\n",
    "def swap(i, j, array): \n",
    "    array[i],array[j] = array[j], array[i]\n",
    "    return array\n",
    "\n",
    "def bubbleSort(array):\n",
    "    isSorted = False\n",
    "    while not isSorted:\n",
    "        isSorted = True \n",
    "        #this won't make it break from while loop until it finishes running \n",
    "        #the while loop and goes back to the top to verify the value of isSorting\n",
    "        for i in range(len(array)-1):\n",
    "            if array[i] > array[i+1]:\n",
    "                swap(i, i+1, array)\n",
    "                isSorted = False\n",
    "    return array\n",
    "\n",
    "bubbleSort([23,1,56,3,6,9])"
   ]
  },
  {
   "cell_type": "code",
   "execution_count": null,
   "metadata": {},
   "outputs": [],
   "source": []
  },
  {
   "cell_type": "markdown",
   "metadata": {},
   "source": [
    "##### Insertion Sort\n",
    "\n",
    "Worst Case: O(n^2) time - O(1)space"
   ]
  },
  {
   "cell_type": "code",
   "execution_count": 7,
   "metadata": {},
   "outputs": [
    {
     "data": {
      "text/plain": [
       "[1, 3, 6, 9, 23, 56]"
      ]
     },
     "execution_count": 7,
     "metadata": {},
     "output_type": "execute_result"
    }
   ],
   "source": [
    "def swap(x, y, array): \n",
    "    array[x],array[y] = array[y], array[x]\n",
    "    return array\n",
    "\n",
    "def insertionSort(array):\n",
    "    for i in range(1,len(array)):\n",
    "        j = i\n",
    "        while j > 0 and array[j] < array [j-1]:\n",
    "            swap(j,j-1,array)\n",
    "            j -= 1\n",
    "    return array\n",
    "\n",
    "insertionSort([23,1,56,3,6,9])"
   ]
  },
  {
   "cell_type": "markdown",
   "metadata": {},
   "source": [
    "## Merge Sort"
   ]
  },
  {
   "cell_type": "markdown",
   "metadata": {},
   "source": [
    "#### How it Works"
   ]
  },
  {
   "cell_type": "code",
   "execution_count": 6,
   "metadata": {},
   "outputs": [
    {
     "name": "stdout",
     "output_type": "stream",
     "text": [
      "Splitting... [6, 9, 2, 3, 6, 7]\n",
      "Splitting... [6, 9, 2]\n",
      "Splitting... [6]\n",
      "Splitting... [9, 2]\n",
      "Splitting... [9]\n",
      "Splitting... [2]\n",
      "Merging:  [2, 9]\n",
      "Merging:  [2, 6, 9]\n",
      "Splitting... [3, 6, 7]\n",
      "Splitting... [3]\n",
      "Splitting... [6, 7]\n",
      "Splitting... [6]\n",
      "Splitting... [7]\n",
      "Merging:  [6, 7]\n",
      "Merging:  [3, 6, 7]\n",
      "Merging:  [2, 3, 6, 6, 7, 9]\n"
     ]
    },
    {
     "data": {
      "text/plain": [
       "[2, 3, 6, 6, 7, 9]"
      ]
     },
     "execution_count": 6,
     "metadata": {},
     "output_type": "execute_result"
    }
   ],
   "source": [
    "#not the best best case but\n",
    "#has a better worst case scenario\n",
    "\n",
    "# Recursion\n",
    "# Step 1: Splitting everything up into its own group\n",
    "# Step 2: From left to right we're merging two groups together\n",
    "# Step 3: While we merge, pull items into correct order\n",
    "# Step 4: Repeat 2/3/4 until we just have the one big list again\n",
    "\n",
    "def mergeSort(alist):\n",
    "    print(\"Splitting...\", alist)\n",
    "    \n",
    "    #step1\n",
    "    if len(alist) > 1:\n",
    "        mid = len(alist)//2\n",
    "        lefthalf = alist[:mid]\n",
    "        righthalf = alist[mid:]\n",
    "        \n",
    "        #recursive call\n",
    "        mergeSort(lefthalf)\n",
    "        mergeSort(righthalf)\n",
    "        \n",
    "        #index pointers\n",
    "        i = 0 #left pointer\n",
    "        j = 0 #right pointer\n",
    "        k = 0 #main array pointer\n",
    "        \n",
    "        #step3: compares number in one group with the other group. the smaller number is added to the main list.\n",
    "        while i < len(lefthalf) and j < len(righthalf):\n",
    "            if lefthalf[i] < righthalf[j]:\n",
    "                alist[k] = lefthalf[i]\n",
    "                i += 1\n",
    "            else:\n",
    "                alist[k] = righthalf[j]\n",
    "                j += 1\n",
    "            k += 1\n",
    "            \n",
    "        #step3: any remaining items in either of the list that wasn't completely iterated through will be placed in the main list.\n",
    "        while i < len(lefthalf):\n",
    "            alist[k] = lefthalf[i]\n",
    "            i += 1\n",
    "            k += 1\n",
    "        while j < len(righthalf):\n",
    "            alist[k] = righthalf[j]\n",
    "            j += 1\n",
    "            k += 1\n",
    "        print(\"Merging: \",alist)\n",
    "        return alist\n",
    "\n",
    "mergeSort([6,9,2,3,6,7])"
   ]
  },
  {
   "cell_type": "markdown",
   "metadata": {},
   "source": [
    "# Binary Search\n",
    "\n",
    "The Binary Search algorithm works by finding the number in the middle of a given array and comparing it to the target. Given that the array is sorted\n",
    "\n",
    "* The worst case run time for this algorithm is `O(log(n))`"
   ]
  },
  {
   "cell_type": "code",
   "execution_count": 1,
   "metadata": {},
   "outputs": [
    {
     "data": {
      "text/plain": [
       "'The index of 3 is 1. Yay.'"
      ]
     },
     "execution_count": 1,
     "metadata": {},
     "output_type": "execute_result"
    }
   ],
   "source": [
    "#the most efficient way to find a value in a sorted list\n",
    "#list aka array\n",
    "#dictionary aka hash table\n",
    "\n",
    "#smaller == left\n",
    "#greater == right\n",
    "\n",
    "#input array MUST be sorted!!!!\n",
    "\n",
    "def binarySearch(array,target):\n",
    "    left = 0\n",
    "    right = len(array)-1\n",
    "    while left <= right:\n",
    "        middle = (left + right)//2\n",
    "        potentialMatch = array[middle]\n",
    "        if target == potentialMatch:\n",
    "            return f'The index of {target} is {middle}. Yay.'\n",
    "        elif target  < potentialMatch:\n",
    "            right = middle-1\n",
    "        else:\n",
    "            left = middle + 1\n",
    "    return f\"It's not here dooddddd\"\n",
    "\n",
    "binarySearch([1, 3, 6, 9, 23, 56],3)"
   ]
  },
  {
   "cell_type": "markdown",
   "metadata": {},
   "source": [
    "# Exercises"
   ]
  },
  {
   "cell_type": "markdown",
   "metadata": {},
   "source": [
    "### Exercise #1 <br>\n",
    "<p>Reverse the list below in-place using an in-place algorithm.<br>For extra credit: Reverse the strings at the same time.</p>"
   ]
  },
  {
   "cell_type": "code",
   "execution_count": 2,
   "metadata": {},
   "outputs": [
    {
     "name": "stdout",
     "output_type": "stream",
     "text": [
      "['.', 'ecnetnes', 'a', 'si', 'siht']\n"
     ]
    }
   ],
   "source": [
    "words = ['this' , 'is', 'a', 'sentence', '.']\n",
    "\n",
    "def reverse(listy):\n",
    "    listy = [x[::-1] for x in listy[::-1]]\n",
    "    return listy\n",
    "\n",
    "print(reverse(words))"
   ]
  },
  {
   "cell_type": "markdown",
   "metadata": {},
   "source": [
    "### Exercise #2 <br>\n",
    "<p>Create a function that counts how many distinct words are in the string below, then outputs a dictionary with the words as the key and the value as the amount of times that word appears in the string.<br>Should output:<br>{'a': 5,<br>\n",
    " 'abstract': 1,<br>\n",
    " 'an': 3,<br>\n",
    " 'array': 2, ... etc...</p>"
   ]
  },
  {
   "cell_type": "code",
   "execution_count": 3,
   "metadata": {},
   "outputs": [
    {
     "name": "stdout",
     "output_type": "stream",
     "text": [
      "{'In': 1, 'computing': 1, 'a': 4, 'hash': 4, 'table': 2, 'map': 2, 'is': 1, 'data': 2, 'structure': 2, 'which': 2, 'implements': 1, 'an': 3, 'associative': 1, 'array': 2, 'abstract': 1, 'type': 1, 'that': 1, 'can': 2, 'keys': 1, 'to': 2, 'values': 1, 'A': 1, 'uses': 1, 'function': 1, 'compute': 1, 'index': 1, 'into': 1, 'of': 1, 'buckets': 1, 'or': 1, 'slots': 1, 'from': 1, 'the': 1, 'desired': 1, 'value': 1, 'be': 1, 'found': 1}\n"
     ]
    }
   ],
   "source": [
    "import re\n",
    "\n",
    "a_text = 'In computing, a hash table hash map is a data structure which implements an associative array abstract data type, a structure that can map keys to values. A hash table uses a hash function to compute an index into an array of buckets or slots from which the desired value can be found'\n",
    "\n",
    "\n",
    "\n",
    "def countme(stringy):\n",
    "    wordpat = re.compile(\"([\\w]+)\")\n",
    "    wordy = wordpat.findall(stringy)\n",
    "    wordict = {}\n",
    "    for word in wordy:\n",
    "        if word not in wordict.keys():\n",
    "            wordict[word] = 1\n",
    "        else:\n",
    "            wordict[word] += 1\n",
    "    return wordict\n",
    "\n",
    "print(countme(a_text))\n",
    "\n"
   ]
  },
  {
   "cell_type": "markdown",
   "metadata": {},
   "source": [
    "## Exercise #3\n",
    "\n",
    "Write a program to implement a Linear Search Algorithm. Also in a comment, write the Time Complexity of the following algorithm.\n",
    "\n",
    "#### Hint: Linear Searching will require searching a list for a given number. "
   ]
  },
  {
   "cell_type": "code",
   "execution_count": 4,
   "metadata": {},
   "outputs": [
    {
     "name": "stdout",
     "output_type": "stream",
     "text": [
      "3 is in index 1\n"
     ]
    }
   ],
   "source": [
    "def linSearch(some_list, target_value):\n",
    "    for i in range(len(some_list)):\n",
    "        if some_list[i] == target_value:\n",
    "            return (f\"{target_value} is in index {i}\")\n",
    "    return (f\"{target_value} is not in the list\")\n",
    "e_list = [1, 3, 5, 7, 9, 3]\n",
    "print(linSearch(e_list, 3)) "
   ]
  },
  {
   "cell_type": "code",
   "execution_count": null,
   "metadata": {},
   "outputs": [],
   "source": []
  }
 ],
 "metadata": {
  "kernelspec": {
   "display_name": "Python 3",
   "language": "python",
   "name": "python3"
  },
  "language_info": {
   "codemirror_mode": {
    "name": "ipython",
    "version": 3
   },
   "file_extension": ".py",
   "mimetype": "text/x-python",
   "name": "python",
   "nbconvert_exporter": "python",
   "pygments_lexer": "ipython3",
   "version": "3.8.5"
  }
 },
 "nbformat": 4,
 "nbformat_minor": 2
}
