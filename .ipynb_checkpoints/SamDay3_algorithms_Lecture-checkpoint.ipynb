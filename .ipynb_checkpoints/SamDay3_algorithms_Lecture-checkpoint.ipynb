{
 "cells": [
  {
   "cell_type": "markdown",
   "metadata": {},
   "source": [
    "# Algorithms, Binary Search & Linked Lists"
   ]
  },
  {
   "cell_type": "markdown",
   "metadata": {},
   "source": [
    "## Tasks Today:\n",
    " \n",
    "1) <b>In-Place Algorithms</b> <br>\n",
    " &nbsp;&nbsp;&nbsp;&nbsp; a) Syntax <br>\n",
    " &nbsp;&nbsp;&nbsp;&nbsp; a) Out of Place Algorithm <br>\n",
    " &nbsp;&nbsp;&nbsp;&nbsp; b) In-Class Exercise #1 <br>\n",
    "2) <b>Two Pointers</b> <br>\n",
    "3) <b>Linked Lists</b> <br>\n",
    "4) <b>Merge Sort</b> <br>\n",
    " &nbsp;&nbsp;&nbsp;&nbsp; a) Video on Algorithms <br>\n",
    " &nbsp;&nbsp;&nbsp;&nbsp; b) How it Works <br>\n",
    "5) <b>Exercises</b> <br>\n",
    " &nbsp;&nbsp;&nbsp;&nbsp; a) Exercise #1 - Reverse a List in Place Using an In-Place Algorithm <br>\n",
    " &nbsp;&nbsp;&nbsp;&nbsp; b) Exercise #2 - Find Distinct Words <br>\n",
    " &nbsp;&nbsp;&nbsp;&nbsp; c) Exercise #3 - Write a program to implement a Linear Search Algorithm. <br>"
   ]
  },
  {
   "cell_type": "markdown",
   "metadata": {},
   "source": [
    "## In-Place Algorithms"
   ]
  },
  {
   "cell_type": "markdown",
   "metadata": {},
   "source": [
    "#### Syntax"
   ]
  },
  {
   "cell_type": "code",
   "execution_count": 4,
   "metadata": {},
   "outputs": [
    {
     "name": "stdout",
     "output_type": "stream",
     "text": [
      "['Erin', 'Terrell', 'Eric', 'Sam']\n"
     ]
    }
   ],
   "source": [
    "# swapper\n",
    "# we want to swap the values at two indicies in our list\n",
    "# the main idea of an in-place algorithm is that we modify our original data and don't make any copies\n",
    "def swap(alist, x, y):\n",
    "    # placeholdervariable = alist[x]\n",
    "    # ph = alist[y]\n",
    "    # alist[x] = ph\n",
    "    # alist[y] = placeholdervariable\n",
    "    alist[x],alist[y] = alist[y],alist[x]\n",
    "    return alist\n",
    "\n",
    "my_list = ['Sam', 'Terrell', 'Eric', 'Erin']\n",
    "print(swap(my_list, 0, 3))\n"
   ]
  },
  {
   "cell_type": "markdown",
   "metadata": {},
   "source": [
    "#### Out of Place Algorithm"
   ]
  },
  {
   "cell_type": "code",
   "execution_count": 9,
   "metadata": {},
   "outputs": [
    {
     "name": "stdout",
     "output_type": "stream",
     "text": [
      "['Erin', 'Terrell', 'Eric', 'Sam']\n",
      "['Sam', 'Eric', 'Terrell', 'Erin']\n"
     ]
    },
    {
     "data": {
      "text/plain": [
       "['d', 'c', 'b', 'a']"
      ]
     },
     "execution_count": 9,
     "metadata": {},
     "output_type": "execute_result"
    }
   ],
   "source": [
    "# reverse our list completely\n",
    "# main idea of an out of place algorithm is that we maintain data integrity and dont modify our original data structure\n",
    "my_list_copy = my_list[::-1]\n",
    "print(my_list)\n",
    "print(my_list_copy)\n",
    "\n",
    "array1 = ['a', 'b', 'c', 'd']\n",
    "# input - some array\n",
    "# output - a NEW array that is the input array in reverse\n",
    "def reverse(array):\n",
    "    ans = []\n",
    "    for i in range(1,len(array)+1):\n",
    "        ans.append(array[-i])\n",
    "    return ans\n",
    "\n",
    "newarr = reverse(array1)\n",
    "newarr"
   ]
  },
  {
   "cell_type": "code",
   "execution_count": 14,
   "metadata": {},
   "outputs": [
    {
     "name": "stdout",
     "output_type": "stream",
     "text": [
      "['Erin', 'Terrell', 'Eric', 'Sam']\n",
      "['Sam', 'Terrell', 'Eric', 'Erin']\n"
     ]
    }
   ],
   "source": [
    "# out of place swapper\n",
    "def swap2(alist, x, y):\n",
    "    # tell it to make a copy (slicing or .copy())\n",
    "    blist = alist[:]\n",
    "    blist[x],blist[y] = blist[y],blist[x]\n",
    "    return blist\n",
    "\n",
    "my_list2 = ['Sam', 'Terrell', 'Eric', 'Erin']\n",
    "print(swap2(my_list2, 0, 3))\n",
    "print(my_list2)"
   ]
  },
  {
   "cell_type": "markdown",
   "metadata": {},
   "source": [
    "#### Out of Place vs. In-place in brief:\n",
    "#### Did I modify my input data? If so, probably in-place. If not, probably out of place"
   ]
  },
  {
   "cell_type": "markdown",
   "metadata": {},
   "source": [
    "#### In-Class Exercise #1 <br>\n",
    "<p>Write a function that takes in four arguments (list, index1, index2, index3), and swaps those three positions in the list passed in.</p>"
   ]
  },
  {
   "cell_type": "code",
   "execution_count": 20,
   "metadata": {},
   "outputs": [
    {
     "name": "stdout",
     "output_type": "stream",
     "text": [
      "[3]\n"
     ]
    }
   ],
   "source": [
    "l_1 = [10, 4, 3, 8, 4, 2, 6]\n",
    "# i want to in-place remove all of the even numbers in our list\n",
    "def ipremove(alist):\n",
    "    i = 0\n",
    "    while i < len(alist):\n",
    "        if alist[i]%2 == 0:\n",
    "            alist.remove(alist[i])\n",
    "        else:\n",
    "            i += 1\n",
    "    return alist\n",
    "\n",
    "print(ipremove(l_1))\n"
   ]
  },
  {
   "cell_type": "markdown",
   "metadata": {},
   "source": [
    "## Two Pointers"
   ]
  },
  {
   "cell_type": "markdown",
   "metadata": {},
   "source": [
    "#### Syntax"
   ]
  },
  {
   "cell_type": "code",
   "execution_count": 16,
   "metadata": {},
   "outputs": [
    {
     "name": "stdout",
     "output_type": "stream",
     "text": [
      "10\n",
      "4\n",
      "3\n",
      "8\n",
      "4\n",
      "2\n",
      "6\n"
     ]
    }
   ],
   "source": [
    "# 3 additional variables commonly used to keep track of something while looping\n",
    "# Flag - boolean that controls a loop (usually a while loop) based off a certain condition\n",
    "flag = True\n",
    "#while flag:\n",
    "    #if a_condition:\n",
    "        #flag = False\n",
    "        #print('Flag was hit')\n",
    "# Counter\n",
    "i = 0\n",
    "while i < 10:\n",
    "    if our_thing_happened:\n",
    "        i += 1\n",
    "# Pointer\n",
    "n = 0\n",
    "while n < len(l_1):\n",
    "    print(l_1[n])\n",
    "    n += 1"
   ]
  },
  {
   "cell_type": "code",
   "execution_count": 25,
   "metadata": {},
   "outputs": [
    {
     "data": {
      "text/plain": [
       "[8, 7, 6, 5, 4, 3, 2, 1]"
      ]
     },
     "execution_count": 25,
     "metadata": {},
     "output_type": "execute_result"
    }
   ],
   "source": [
    "# alist[left], alist[right] = alist[right], alist[left]\n",
    "#reverse the list in place -> use pointers\n",
    "def twoPointers(alist):\n",
    "    left = 0\n",
    "    right = len(alist)-1\n",
    "    while left < right:\n",
    "        alist[left], alist[right] = alist[right], alist[left]\n",
    "        left += 1\n",
    "        right -= 1\n",
    "    return alist\n",
    "\n",
    "my_list2 = [1, 2, 3, 4, 5, 6, 7, 8]\n",
    "twoPointers(my_list2)"
   ]
  },
  {
   "cell_type": "code",
   "execution_count": 29,
   "metadata": {},
   "outputs": [
    {
     "name": "stdout",
     "output_type": "stream",
     "text": [
      "[0, 3, 5, 6, 7, 7, 8]\n"
     ]
    }
   ],
   "source": [
    "list1 = [3, 5, 7, 8]\n",
    "list2 = [0, 6, 7, 9]\n",
    "# my goal is to merge the two lists in sorted order\n",
    "#newlist = sorted(list1+list2) # O(nlogn)\n",
    "\n",
    "def pointy(lista, listb): # O(n)\n",
    "    x = 0\n",
    "    y = 0\n",
    "    ans = []\n",
    "    while x < len(lista) and y < len(listb):\n",
    "        if lista[x] < listb[y]:\n",
    "            ans.append(lista[x])\n",
    "            x += 1\n",
    "        else:\n",
    "            ans.append(listb[y])\n",
    "            y += 1\n",
    "    return ans\n",
    "\n",
    "print(pointy(list1, list2))"
   ]
  },
  {
   "cell_type": "code",
   "execution_count": 30,
   "metadata": {},
   "outputs": [
    {
     "name": "stdout",
     "output_type": "stream",
     "text": [
      "1\n",
      "2\n",
      "3\n",
      "4\n",
      "5\n",
      "6\n",
      "7\n",
      "8\n",
      "9\n",
      "10\n",
      "1\n",
      "2\n",
      "3\n",
      "4\n",
      "5\n",
      "6\n",
      "7\n",
      "8\n",
      "9\n",
      "10\n"
     ]
    }
   ],
   "source": [
    "# How do I tell what time complexity?\n",
    "# We don't care about anything other than exponential differences in our time complexity\n",
    "# Most Common Time Complexities:\n",
    "# O(1)\n",
    "# O(logn)\n",
    "# O(n)\n",
    "# O(nlogn)\n",
    "# O(n^2)\n",
    "# anything above quadratic time is really slow\n",
    "# O(n!)\n",
    "# O(n^n)\n",
    "\n",
    "# What takes what time?\n",
    "# Any loop through an iterable takes O(n)\n",
    "# Some operations such as removing from a list are O(n)\n",
    "# Checking for membership (if i in alist) in lists takes O(n)\n",
    "\n",
    "# Checking for membership (if i in collection) in sets and dictionaries takes O(1)\n",
    "\n",
    "# What about bad time complexity? Where does that come from\n",
    "# Nesting\n",
    "# Having a O(n) or worse operation that occurs every time another O(n) or worse operation runs\n",
    "# Nested for loops (loop in a loop)\n",
    "# Removing inside a for loop\n",
    "\n",
    "# Determine whether or not the amount of steps an operation takes scales with number of inputs\n",
    "# Determine whether or not a scaling operation occurs in full every time another operation steps\n",
    "\n",
    "# What about multiple loops that aren't nested?\n",
    "# Simplification!\n",
    "alist = list(range(1, 11)) # O(n)\n",
    "for x in alist: # O(n)\n",
    "    print(x)\n",
    "for x in alist: # O(n)\n",
    "    print(x)\n",
    "\n",
    "# O(3*n) = O(n + n + n) = O(n) because infinity * 3 = infinity\n"
   ]
  },
  {
   "cell_type": "markdown",
   "metadata": {},
   "source": [
    "#### Video of Algorithms <br>\n",
    "<p>Watch the video about algorithms.</p>\n",
    "\n",
    "https://www.youtube.com/watch?v=Q9HjeFD62Uk\n",
    "\n",
    "https://www.youtube.com/watch?v=kPRA0W1kECg\n",
    "\n",
    "https://www.youtube.com/watch?v=ZZuD6iUe3Pc"
   ]
  },
  {
   "cell_type": "markdown",
   "metadata": {},
   "source": [
    "# Sorting Algorithms"
   ]
  },
  {
   "cell_type": "markdown",
   "metadata": {},
   "source": [
    "#### Bubble Sort\n",
    "\n",
    "Worst Case: O(n^2) Time - O(1) Space"
   ]
  },
  {
   "cell_type": "code",
   "execution_count": null,
   "metadata": {},
   "outputs": [],
   "source": []
  },
  {
   "cell_type": "markdown",
   "metadata": {},
   "source": [
    "##### Insertion Sort\n",
    "\n",
    "Worst Case: O(n^2) time - O(1)space"
   ]
  },
  {
   "cell_type": "code",
   "execution_count": null,
   "metadata": {},
   "outputs": [],
   "source": []
  },
  {
   "cell_type": "markdown",
   "metadata": {},
   "source": [
    "## Merge Sort"
   ]
  },
  {
   "cell_type": "markdown",
   "metadata": {},
   "source": [
    "#### How it Works"
   ]
  },
  {
   "cell_type": "code",
   "execution_count": null,
   "metadata": {},
   "outputs": [],
   "source": []
  },
  {
   "cell_type": "markdown",
   "metadata": {},
   "source": [
    "# Binary Search\n",
    "\n",
    "The Binary Search algorithm works by finding the number in the middle of a given array and comparing it to the target. Given that the array is sorted\n",
    "\n",
    "* The worst case run time for this algorithm is `O(log(n))`"
   ]
  },
  {
   "cell_type": "code",
   "execution_count": null,
   "metadata": {},
   "outputs": [],
   "source": []
  },
  {
   "cell_type": "markdown",
   "metadata": {},
   "source": [
    "# Exercises"
   ]
  },
  {
   "cell_type": "markdown",
   "metadata": {},
   "source": [
    "### Exercise #1 <br>\n",
    "<p>Reverse the list below in-place using an in-place algorithm.<br>For extra credit: Reverse the strings at the same time.</p>"
   ]
  },
  {
   "cell_type": "code",
   "execution_count": null,
   "metadata": {},
   "outputs": [],
   "source": [
    "words = ['this' , 'is', 'a', 'sentence', '.']\n"
   ]
  },
  {
   "cell_type": "markdown",
   "metadata": {},
   "source": [
    "### Exercise #2 <br>\n",
    "<p>Create a function that counts how many distinct words are in the string below, then outputs a dictionary with the words as the key and the value as the amount of times that word appears in the string.<br>Should output:<br>{'a': 5,<br>\n",
    " 'abstract': 1,<br>\n",
    " 'an': 3,<br>\n",
    " 'array': 2, ... etc...</p>"
   ]
  },
  {
   "cell_type": "code",
   "execution_count": null,
   "metadata": {},
   "outputs": [],
   "source": [
    "a_text = 'In computing, a hash table hash map is a data structure which implements an associative array abstract data type, a structure that can map keys to values. A hash table uses a hash function to compute an index into an array of buckets or slots from which the desired value can be found'\n",
    "\n"
   ]
  },
  {
   "cell_type": "markdown",
   "metadata": {},
   "source": [
    "## Exercise #3\n",
    "\n",
    "Write a program to implement a Linear Search Algorithm. Also in a comment, write the Time Complexity of the following algorithm.\n",
    "\n",
    "#### Hint: Linear Searching will require searching a list for a given number. "
   ]
  },
  {
   "cell_type": "code",
   "execution_count": null,
   "metadata": {},
   "outputs": [],
   "source": []
  }
 ],
 "metadata": {
  "kernelspec": {
   "display_name": "Python 3",
   "language": "python",
   "name": "python3"
  },
  "language_info": {
   "codemirror_mode": {
    "name": "ipython",
    "version": 3
   },
   "file_extension": ".py",
   "mimetype": "text/x-python",
   "name": "python",
   "nbconvert_exporter": "python",
   "pygments_lexer": "ipython3",
   "version": "3.8.5"
  }
 },
 "nbformat": 4,
 "nbformat_minor": 2
}
